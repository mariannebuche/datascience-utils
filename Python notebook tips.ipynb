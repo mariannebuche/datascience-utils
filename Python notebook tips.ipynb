{
 "cells": [
  {
   "cell_type": "markdown",
   "id": "45a02ffb",
   "metadata": {},
   "source": [
    "# Python notebook tips"
   ]
  },
  {
   "cell_type": "markdown",
   "id": "d9b5907c",
   "metadata": {},
   "source": [
    "## General recommendations"
   ]
  },
  {
   "cell_type": "markdown",
   "id": "42be0d23",
   "metadata": {},
   "source": [
    "#### Notebook structure"
   ]
  },
  {
   "cell_type": "markdown",
   "id": "f9e38acb",
   "metadata": {},
   "source": [
    "- Use Markdown cells to help understand the architecture & logic within the notebook\n",
    "- Explain context for each part of the program\n",
    "- Add interpretation of the results and conclusions about actions to take or options to explore"
   ]
  },
  {
   "cell_type": "markdown",
   "id": "7cfffbf3",
   "metadata": {},
   "source": [
    "#### Coding style"
   ]
  },
  {
   "cell_type": "markdown",
   "id": "94aca0a3",
   "metadata": {},
   "source": [
    "- Choose Functional Programming over Object Oriented Programming when possible as it is often more readable\n",
    "- Keep it simple stupid: reduce complexity as much as possible (avoid using complex solutions when simple ones can be implemented)\n",
    "- DRY: don't repeat yourself (use functions to reuse portions of code for instance)\n",
    "- Keep configurable info (for example, constants) at the top of the notebook, so that they are easy to change\n",
    "- Prevent over-configurability ('just in case')\n",
    "- Be consistent within the code (style, logic...)\n",
    "- Functions dependent on each other should be close together\n",
    "- Functions should do only one thing and do it well (separate into multiple functions if needed)\n",
    "- Avoid deep nested loops (extract loops into separate functions instead)\n",
    "- Use consistent quotes (single or double) throughout the code"
   ]
  },
  {
   "cell_type": "markdown",
   "id": "63818c3e",
   "metadata": {},
   "source": [
    "#### Naming & comments"
   ]
  },
  {
   "cell_type": "markdown",
   "id": "c881911f",
   "metadata": {},
   "source": [
    "- All objects should be named so that it is easy to understand what they represent throughout the notebook\n",
    "- Comments should be limited but need to exist: write everything that is not directly understandable from the objects naming (logic behind some code, deliberate choices that might appear incorrect etc.)\n",
    "- No commented code which reduces readibility, use versioning instead (previously deleted code can be found from older versions)\n",
    "- Trade-off between providing enough information through comments, versus increasing readibility by limiting code size & avoiding outdated comments\n",
    "- Use snake_case for functions and methods, PascalCase for class definition, camelCase for class instances, SNAKE_UPPERCASE for constants"
   ]
  },
  {
   "cell_type": "markdown",
   "id": "5795d85f",
   "metadata": {},
   "source": [
    "#### Docstrings"
   ]
  },
  {
   "cell_type": "code",
   "execution_count": null,
   "id": "94d76acd",
   "metadata": {},
   "outputs": [],
   "source": [
    "def my_function(parameter):\n",
    "    \"\"\"\n",
    "    Does stuff.\n",
    "    \n",
    "    Parameters\n",
    "    ----------\n",
    "    parameter : type of the parameter\n",
    "        Parameter description\n",
    "\n",
    "    Returns\n",
    "    -------\n",
    "    type of return\n",
    "\n",
    "    \"\"\"\n",
    "\n",
    "    # do stuff"
   ]
  },
  {
   "cell_type": "markdown",
   "id": "02c956e1",
   "metadata": {},
   "source": [
    "#### Data types"
   ]
  },
  {
   "cell_type": "markdown",
   "id": "9bfc459f",
   "metadata": {},
   "source": [
    "Main data types are:\n",
    "- Text: `str` (collection of Unicode characters)\n",
    "- Numeric: `int` (integer), `float`, `complex`\n",
    "- Sequence: `list` (mutable collection of objects with same or different types), `tuple` (ordered immutable collection of objects with same or different types), `range` (ordered immutable collection of numbers)\n",
    "- Dictionary: `dict` (unordered mutable collection of objects with a key-value schema)\n",
    "- Set: `set` (unordered immutable collection of objects with no duplicates)\n",
    "- Boolean: `bool` (True or False)"
   ]
  },
  {
   "cell_type": "markdown",
   "id": "6183e758",
   "metadata": {},
   "source": [
    "#### Exceptions"
   ]
  },
  {
   "cell_type": "markdown",
   "id": "82c673cd",
   "metadata": {},
   "source": [
    "In Python, exceptions are raised when the code is syntactically correct (it would otherwise cause a syntax error), but results in an error which changes the normal flow of the program. It is useful to handle exceptions to avoid crashing the program when  some expected but 'abnormal' behaviors happen.  \n",
    "The exception handling follows the `try: ... except ExceptionType: ...` pattern."
   ]
  },
  {
   "cell_type": "code",
   "execution_count": 1,
   "id": "93ddbe4d",
   "metadata": {},
   "outputs": [
    {
     "name": "stdout",
     "output_type": "stream",
     "text": [
      "An error occurred\n"
     ]
    }
   ],
   "source": [
    "# In this example, we try to get an element of the list which does not exist:\n",
    "input_integers = [1, 2, 3]\n",
    "try:\n",
    "    print(input_integers[10])\n",
    "except:\n",
    "    print(\"An error occurred\")"
   ]
  },
  {
   "cell_type": "code",
   "execution_count": 2,
   "id": "0ad23227",
   "metadata": {},
   "outputs": [
    {
     "name": "stdout",
     "output_type": "stream",
     "text": [
      "An error occurred\n",
      "Exception: 'list index out of range' of type: IndexError\n"
     ]
    }
   ],
   "source": [
    "# We can retrieve what exception was caught:\n",
    "input_integers = [1, 2, 3]\n",
    "try:\n",
    "    print(input_integers[10])\n",
    "except Exception as exception:\n",
    "    print(\"An error occurred\")\n",
    "    print(f\"Exception: '{exception}' of type: {exception.__class__.__name__}\")"
   ]
  },
  {
   "cell_type": "code",
   "execution_count": 3,
   "id": "b3c3aa8a",
   "metadata": {},
   "outputs": [
    {
     "name": "stdout",
     "output_type": "stream",
     "text": [
      "An index error occurred\n",
      "A type error occurred\n"
     ]
    }
   ],
   "source": [
    "# It is also possible to catch specific exceptions:\n",
    "input_integers = [1, 2, 3]\n",
    "try:\n",
    "    print(input_integers[10])\n",
    "except IndexError:\n",
    "    print(\"An index error occurred\")\n",
    "# Other example:\n",
    "input_strings = [\"a\", \"b\", \"c\"]\n",
    "try:\n",
    "    print([item + 2 for item in input_strings])\n",
    "except TypeError:\n",
    "    print(\"A type error occurred\")"
   ]
  },
  {
   "cell_type": "code",
   "execution_count": 4,
   "id": "a4ee626b",
   "metadata": {},
   "outputs": [
    {
     "name": "stdout",
     "output_type": "stream",
     "text": [
      "3\n",
      "No error occurred\n",
      "This is run even if an error occurred\n"
     ]
    }
   ],
   "source": [
    "# To run some code after having checked for an exception:\n",
    "input_integers = [1, 2, 3]\n",
    "try:\n",
    "    print(input_integers[2])\n",
    "except Exception:\n",
    "    print(\"An error occurred\")\n",
    "else:\n",
    "    print(\"No error occurred\")\n",
    "finally:\n",
    "    print(\"This is run even if an error occurred\")"
   ]
  },
  {
   "cell_type": "code",
   "execution_count": 5,
   "id": "ba0a76ce",
   "metadata": {},
   "outputs": [
    {
     "ename": "Exception",
     "evalue": "Input integer list is too short! Should be more than 10 items",
     "output_type": "error",
     "traceback": [
      "\u001b[1;31m---------------------------------------------------------------------------\u001b[0m",
      "\u001b[1;31mException\u001b[0m                                 Traceback (most recent call last)",
      "Input \u001b[1;32mIn [5]\u001b[0m, in \u001b[0;36m<cell line: 3>\u001b[1;34m()\u001b[0m\n\u001b[0;32m      2\u001b[0m input_integers \u001b[38;5;241m=\u001b[39m [\u001b[38;5;241m1\u001b[39m, \u001b[38;5;241m2\u001b[39m, \u001b[38;5;241m3\u001b[39m, \u001b[38;5;241m4\u001b[39m, \u001b[38;5;241m5\u001b[39m, \u001b[38;5;241m6\u001b[39m, \u001b[38;5;241m7\u001b[39m, \u001b[38;5;241m8\u001b[39m, \u001b[38;5;241m9\u001b[39m]\n\u001b[0;32m      3\u001b[0m \u001b[38;5;28;01mif\u001b[39;00m \u001b[38;5;28mlen\u001b[39m(input_integers) \u001b[38;5;241m<\u001b[39m \u001b[38;5;241m10\u001b[39m:\n\u001b[1;32m----> 4\u001b[0m     \u001b[38;5;28;01mraise\u001b[39;00m \u001b[38;5;167;01mException\u001b[39;00m(\u001b[38;5;124m\"\u001b[39m\u001b[38;5;124mInput integer list is too short! Should be more than 10 items\u001b[39m\u001b[38;5;124m\"\u001b[39m)\n\u001b[0;32m      5\u001b[0m     \u001b[38;5;66;03m# Note: more precise exception types should be favored instead of the general 'Exception' type\u001b[39;00m\n\u001b[0;32m      6\u001b[0m \u001b[38;5;28;01melse\u001b[39;00m:\n\u001b[0;32m      7\u001b[0m     \u001b[38;5;28mprint\u001b[39m(input_integers)\n",
      "\u001b[1;31mException\u001b[0m: Input integer list is too short! Should be more than 10 items"
     ]
    }
   ],
   "source": [
    "# Also possible te raise exceptions to handle abnormal behaviors and display custom messages:\n",
    "input_integers = [1, 2, 3, 4, 5, 6, 7, 8, 9]\n",
    "if len(input_integers) < 10:\n",
    "    raise Exception(\"Input integer list is too short! Should be more than 10 items\")\n",
    "    # Note: more precise exception types should be favored instead of the general 'Exception' type\n",
    "else:\n",
    "    print(input_integers)"
   ]
  },
  {
   "cell_type": "markdown",
   "id": "26b6f3c9",
   "metadata": {},
   "source": [
    "## Analytics"
   ]
  },
  {
   "cell_type": "markdown",
   "id": "ca18c471",
   "metadata": {},
   "source": [
    "#### Strings"
   ]
  },
  {
   "cell_type": "code",
   "execution_count": 6,
   "id": "1fb0bf2b",
   "metadata": {},
   "outputs": [
    {
     "name": "stdout",
     "output_type": "stream",
     "text": [
      "blablablablabla\n"
     ]
    }
   ],
   "source": [
    "# Repeat string without looping:\n",
    "input_string = \"bla\"\n",
    "print(input_string * 5)"
   ]
  },
  {
   "cell_type": "code",
   "execution_count": 7,
   "id": "968c09c4",
   "metadata": {},
   "outputs": [
    {
     "name": "stdout",
     "output_type": "stream",
     "text": [
      "True\n"
     ]
    }
   ],
   "source": [
    "# Check if a string only contains digits:\n",
    "string = \"1234\"\n",
    "print(string.isdigit())"
   ]
  },
  {
   "cell_type": "code",
   "execution_count": 8,
   "id": "e7b49199",
   "metadata": {},
   "outputs": [],
   "source": [
    "# Regular expressions:\n",
    "import re"
   ]
  },
  {
   "cell_type": "markdown",
   "id": "f3e9a029",
   "metadata": {},
   "source": [
    "Regular expressions are sequences of characters that form a search pattern. The `re` module allows to check for a pattern matched in a string using: `match = re.search(pattern, string)`. The search proceeds through the string from start to end, stopping at the first match found. All of the pattern must be matched, but not all of the string. `match.group()`returns the matched text if a match was found (`match` is not None). `findall()` finds all the matches and returns them as a list of strings (can be used on whole files as well).\n",
    "\n",
    "Basic patterns:\n",
    "- a, X, 9 indicates ordinary characters to match (characters with special meanings are: `. ^ $ * + ? { [ ] \\ | ( )`)\n",
    "- . matches any single character except newline '\\n'\n",
    "- \\w matches a \"word\" character (single letter or digit or underbar [a-zA-Z0-9_]\n",
    "- \\W matches any non-word character\n",
    "- \\b indicates the boundary between a word and non-word\n",
    "- \\s matches a single whitespace character (space, newline, return, tab, form: [ \\n\\r\\t\\f])\n",
    "- \\S matches any non-whitespace character\n",
    "- \\t, \\n, \\r match respectively tab, newline, return\n",
    "- \\d matches a decimal digit [0-9]\n",
    "- ^ indicates a match with the first character\n",
    "- $ indicates a match with the last character\n",
    "- \\ inhibits the \"specialness\" of a character (example: \\. to match a period or \\\\ to match a slash)\n",
    "- \\+ and * specify a repetition in the pattern (x+: one or more x, x*: zero or more x).  \n",
    "- [] matches a set of characters (`[abc]` matches `a` or `b` or `c`)\n",
    "- () defines logical \"groups\" in the matching text that can be extracted ( `r'([\\w.-]+)@([\\w.-]+)'`: 2 groups separated by @)"
   ]
  },
  {
   "cell_type": "code",
   "execution_count": 9,
   "id": "5a456530",
   "metadata": {},
   "outputs": [
    {
     "name": "stdout",
     "output_type": "stream",
     "text": [
      "laaaaa\n"
     ]
    }
   ],
   "source": [
    "# Example: looking for a sequence of characters\n",
    "pattern = r'.a+' # it is a good habit to start patterns with a 'r', which indicates a raw string\n",
    "input_string = \"blaaaaa\"\n",
    "match = re.search(pattern, input_string)\n",
    "if match:\n",
    "    print(match.group()) \n",
    "else:\n",
    "    print(\"Pattern not found\")"
   ]
  },
  {
   "cell_type": "code",
   "execution_count": 10,
   "id": "9f0f75c3",
   "metadata": {},
   "outputs": [
    {
     "name": "stdout",
     "output_type": "stream",
     "text": [
      "myemailaddress@gmail.com\n",
      "myemailaddress\n",
      "gmail.com\n"
     ]
    }
   ],
   "source": [
    "# Example: looking for email addresses (@ character in the string with text on both sides)\n",
    "pattern = r'([\\w.-]+)@([\\w.-]+)' \n",
    "input_string = \"myemailaddress@gmail.com\"\n",
    "match = re.search(pattern, input_string)\n",
    "if match:\n",
    "    print(match.group()) \n",
    "    print(match.group(1))\n",
    "    print(match.group(2))\n",
    "else:\n",
    "    print(\"Pattern not found\")"
   ]
  },
  {
   "cell_type": "code",
   "execution_count": 11,
   "id": "80821a7f",
   "metadata": {},
   "outputs": [
    {
     "name": "stdout",
     "output_type": "stream",
     "text": [
      "['bla', 'bla', 'bla', 'bla']\n"
     ]
    }
   ],
   "source": [
    "# Example: looking for all occurences of a sequence of characters\n",
    "pattern = r'bla'\n",
    "input_string = \"bla ... bla bla! bla\"\n",
    "result = re.findall(pattern, input_string)\n",
    "print(result)"
   ]
  },
  {
   "cell_type": "markdown",
   "id": "90ecf0d3",
   "metadata": {},
   "source": [
    "#### Lists & dicts"
   ]
  },
  {
   "cell_type": "code",
   "execution_count": 12,
   "id": "2a6ade8d",
   "metadata": {},
   "outputs": [
    {
     "name": "stdout",
     "output_type": "stream",
     "text": [
      "Using sorted(list)\n",
      "[9, 4, 6, 3]\n",
      "[3, 4, 6, 9]\n",
      "Using list.sort\n",
      "[3, 4, 6, 9]\n"
     ]
    }
   ],
   "source": [
    "# Difference between list.sort (sorts the original list) and sorted(list) (returns a new sorted list):\n",
    "print(\"Using sorted(list)\")\n",
    "input_list = [9, 4, 6, 3]\n",
    "sorted_list = sorted(input_list)\n",
    "print(input_list)\n",
    "print(sorted_list)\n",
    "\n",
    "print(\"Using list.sort\")\n",
    "input_list.sort()\n",
    "print(input_list) # has been sorted"
   ]
  },
  {
   "cell_type": "code",
   "execution_count": 13,
   "id": "888615ea",
   "metadata": {},
   "outputs": [
    {
     "name": "stdout",
     "output_type": "stream",
     "text": [
      "[4, 6]\n"
     ]
    }
   ],
   "source": [
    "# Extract central elements of a list:\n",
    "input_list = [9, 10, 4, 6, 3]\n",
    "_, _, *selected_elements, _ = input_list\n",
    "print(selected_elements)"
   ]
  },
  {
   "cell_type": "code",
   "execution_count": 14,
   "id": "aea71a4e",
   "metadata": {},
   "outputs": [
    {
     "name": "stdout",
     "output_type": "stream",
     "text": [
      "['a', 'b', 'c', 'd']\n"
     ]
    }
   ],
   "source": [
    "# Remove duplicates in a list using set:\n",
    "input_list_3 = [\"a\", \"b\", \"c\", \"c\", \"d\", \"a\"]\n",
    "deduplicated_elements = list(set(input_list_3))\n",
    "print(deduplicated_elements) # caution! sets have no order so the initial order is not garanteed"
   ]
  },
  {
   "cell_type": "code",
   "execution_count": 15,
   "id": "7f5d7045",
   "metadata": {},
   "outputs": [
    {
     "name": "stdout",
     "output_type": "stream",
     "text": [
      "[4, 6]\n",
      "[3, 5, 8, 9]\n"
     ]
    }
   ],
   "source": [
    "# Extract common and different elements between 2 lists using sets:\n",
    "input_list_1 = [9, 4, 6, 3]\n",
    "input_list_2 = [8, 5, 4, 6]\n",
    "common_elements = list(set(input_list_1).intersection(input_list_2))\n",
    "different_elements = list(set(input_list_1).symmetric_difference(set(input_list_2)))\n",
    "print(common_elements)\n",
    "print(different_elements)"
   ]
  },
  {
   "cell_type": "code",
   "execution_count": 16,
   "id": "fd8779f3",
   "metadata": {},
   "outputs": [
    {
     "name": "stdout",
     "output_type": "stream",
     "text": [
      "[4, 3, 2, 1]\n"
     ]
    }
   ],
   "source": [
    "# Reverse order of a list:\n",
    "input_list = [1, 2, 3, 4]\n",
    "reversed_list = list(reversed(input_list))\n",
    "print(reversed_list)"
   ]
  },
  {
   "cell_type": "code",
   "execution_count": 17,
   "id": "bb2eada4",
   "metadata": {},
   "outputs": [
    {
     "name": "stdout",
     "output_type": "stream",
     "text": [
      "3\n"
     ]
    }
   ],
   "source": [
    "# Count number of occurrences of a value within a list:\n",
    "elements = [\"a\", \"b\", \"a\", \"a\", \"b\", \"c\"]\n",
    "print(elements.count(\"a\"))"
   ]
  },
  {
   "cell_type": "code",
   "execution_count": 18,
   "id": "a897fe23",
   "metadata": {},
   "outputs": [
    {
     "name": "stdout",
     "output_type": "stream",
     "text": [
      "a\n"
     ]
    }
   ],
   "source": [
    "# Find the most frequent element in a list:\n",
    "my_list = [\"1\", 1, 0, \"a\", \"b\", 2, \"a\", \"c\", \"a\"]\n",
    "print(max(set(my_list), key=my_list.count))"
   ]
  },
  {
   "cell_type": "code",
   "execution_count": 19,
   "id": "4fd2b384",
   "metadata": {},
   "outputs": [
    {
     "name": "stdout",
     "output_type": "stream",
     "text": [
      "['aaa@gmail.com', 'bbb@gmail.com', 'ccc@gmail.com', 'ddd@gmail.com']\n"
     ]
    }
   ],
   "source": [
    "# List comprehension is a very powerful tool to handle lists element-wise, using [transform(x) for x in list]:\n",
    "input_list = [\"aaa\", \"bbb\", \"ccc\", \"ddd\"]\n",
    "new_list = [item + \"@gmail.com\" for item in input_list]\n",
    "print(new_list)"
   ]
  },
  {
   "cell_type": "code",
   "execution_count": 20,
   "id": "6ac3143c",
   "metadata": {},
   "outputs": [
    {
     "name": "stdout",
     "output_type": "stream",
     "text": [
      "aaa bbb ccc\n"
     ]
    }
   ],
   "source": [
    "# Pass list of elements as arguments of a function using *args:\n",
    "def my_function(item1, item2, item3):\n",
    "    print(item1, item2, item3)\n",
    "    \n",
    "items = [\"aaa\", \"bbb\", \"ccc\"]\n",
    "my_function(*items)"
   ]
  },
  {
   "cell_type": "code",
   "execution_count": 21,
   "id": "3d0daa24",
   "metadata": {},
   "outputs": [
    {
     "name": "stdout",
     "output_type": "stream",
     "text": [
      "(0, 'aaa')\n",
      "(1, 'bbb')\n",
      "(2, 'ccc')\n",
      "(3, 'ddd')\n"
     ]
    }
   ],
   "source": [
    "# Keep a count of iterations while looping over list or other iterable using enumerate(iterable, start=0):\n",
    "input_list = [\"aaa\", \"bbb\", \"ccc\", \"ddd\"]\n",
    "enum_list = enumerate(input_list)\n",
    "for element in enum_list:\n",
    "    print(element)"
   ]
  },
  {
   "cell_type": "code",
   "execution_count": 22,
   "id": "33c4243e",
   "metadata": {},
   "outputs": [
    {
     "name": "stdout",
     "output_type": "stream",
     "text": [
      "{1: 'a', 2: 'b', 3: 'c'}\n"
     ]
    }
   ],
   "source": [
    "# Convert 2 lists into dict:\n",
    "list_1, list_2 = [1, 2, 3], [\"a\", \"b\", \"c\"]\n",
    "my_dict = dict(zip(list_1, list_2))\n",
    "print(my_dict)"
   ]
  },
  {
   "cell_type": "code",
   "execution_count": 23,
   "id": "a6d48004",
   "metadata": {},
   "outputs": [
    {
     "name": "stdout",
     "output_type": "stream",
     "text": [
      "{1: 'a', 2: 'b', 3: 'c'}\n"
     ]
    }
   ],
   "source": [
    "# Swap keys and values of a dictionary:\n",
    "input_dict = {\"a\": 1, \"b\": 2, \"c\": 3}\n",
    "reversed_dict = {val: key for key, val in input_dict.items()}\n",
    "print(reversed_dict)"
   ]
  },
  {
   "cell_type": "code",
   "execution_count": 24,
   "id": "08dd75d5",
   "metadata": {},
   "outputs": [
    {
     "name": "stdout",
     "output_type": "stream",
     "text": [
      "{'a': 'cde', 'b': 2, 'c': 10, 'd': 'abc', 'e': 30}\n"
     ]
    }
   ],
   "source": [
    "# Merge 2 dictionaries (caution, will keep last value only if common key found):\n",
    "dict_1 = {\"a\": \"cde\", \"b\": 2, \"c\": 3}\n",
    "dict_2 = {\"c\": 10, \"d\": \"abc\", \"e\": 30}\n",
    "new_dict = {**dict_1, **dict_2}\n",
    "print(new_dict)"
   ]
  },
  {
   "cell_type": "markdown",
   "id": "2a03355f",
   "metadata": {},
   "source": [
    "#### Dataframes"
   ]
  },
  {
   "cell_type": "code",
   "execution_count": 25,
   "id": "5c350c24",
   "metadata": {},
   "outputs": [],
   "source": [
    "import pandas as pd"
   ]
  },
  {
   "cell_type": "code",
   "execution_count": null,
   "id": "d8b092c8",
   "metadata": {},
   "outputs": [],
   "source": [
    "# Read data from csv or txt file (for txt file -> sep=\"\\t\"):\n",
    "csv_file_path = \"C:/Users/.../file.csv\"\n",
    "df_csv = pd.read_csv(csv_file_path, sep=\",\", header=True, index=False, encoding=\"latin-1\", low_memory=False)"
   ]
  },
  {
   "cell_type": "code",
   "execution_count": null,
   "id": "9d21f567",
   "metadata": {},
   "outputs": [],
   "source": [
    "# Read data from json file:\n",
    "json_file_path = \"C:/Users/.../file.json\"\n",
    "df_json = pd.read_json(json_file_path, encoding=\"utf-8\")"
   ]
  },
  {
   "cell_type": "code",
   "execution_count": null,
   "id": "f898539e",
   "metadata": {},
   "outputs": [],
   "source": [
    "# Read data from sql query:\n",
    "import pyodbc\n",
    "connection_hadoop=pyodbc.connect(\"dsn=Impala_Opendata;principal=impala/opendatam02f.bi3.local@REALM\", autocommit=True)\n",
    "df_query = pd.read_sql(\"\"\"select a, b, c from dataset.table\"\"\", connection_hadoop)"
   ]
  },
  {
   "cell_type": "code",
   "execution_count": null,
   "id": "9c642bcf",
   "metadata": {},
   "outputs": [],
   "source": [
    "# Write data to csv:\n",
    "csv_file_path = \"C:/Users/.../file.csv\"\n",
    "df.to_csv(csv_file_path, sep=\",\", header=True, index=True, index_label=None, encoding=\"utf-8\", decimal=\".\")"
   ]
  },
  {
   "cell_type": "code",
   "execution_count": null,
   "id": "9c1024f4",
   "metadata": {},
   "outputs": [],
   "source": [
    "# Write data to Excel file:\n",
    "excel_file_path = \"C:/Users/.../file.xlsx\"\n",
    "writer = pd.ExcelWriter(excel_file_path, engine=\"xlsxwriter\")\n",
    "df.to_excel(writer, sheet_name=\"results\", index=False)"
   ]
  },
  {
   "cell_type": "code",
   "execution_count": 26,
   "id": "8b3c8dc9",
   "metadata": {},
   "outputs": [
    {
     "data": {
      "text/html": [
       "<div>\n",
       "<style scoped>\n",
       "    .dataframe tbody tr th:only-of-type {\n",
       "        vertical-align: middle;\n",
       "    }\n",
       "\n",
       "    .dataframe tbody tr th {\n",
       "        vertical-align: top;\n",
       "    }\n",
       "\n",
       "    .dataframe thead th {\n",
       "        text-align: right;\n",
       "    }\n",
       "</style>\n",
       "<table border=\"1\" class=\"dataframe\">\n",
       "  <thead>\n",
       "    <tr style=\"text-align: right;\">\n",
       "      <th></th>\n",
       "      <th>key</th>\n",
       "      <th>col_1</th>\n",
       "      <th>col_2</th>\n",
       "      <th>col_3</th>\n",
       "    </tr>\n",
       "  </thead>\n",
       "  <tbody>\n",
       "    <tr>\n",
       "      <th>0</th>\n",
       "      <td>1</td>\n",
       "      <td>10.0</td>\n",
       "      <td>NaN</td>\n",
       "      <td>NaN</td>\n",
       "    </tr>\n",
       "    <tr>\n",
       "      <th>1</th>\n",
       "      <td>2</td>\n",
       "      <td>3.0</td>\n",
       "      <td>NaN</td>\n",
       "      <td>NaN</td>\n",
       "    </tr>\n",
       "    <tr>\n",
       "      <th>2</th>\n",
       "      <td>3</td>\n",
       "      <td>2.0</td>\n",
       "      <td>NaN</td>\n",
       "      <td>NaN</td>\n",
       "    </tr>\n",
       "    <tr>\n",
       "      <th>3</th>\n",
       "      <td>4</td>\n",
       "      <td>5.0</td>\n",
       "      <td>NaN</td>\n",
       "      <td>NaN</td>\n",
       "    </tr>\n",
       "    <tr>\n",
       "      <th>0</th>\n",
       "      <td>1</td>\n",
       "      <td>NaN</td>\n",
       "      <td>a</td>\n",
       "      <td>NaN</td>\n",
       "    </tr>\n",
       "    <tr>\n",
       "      <th>1</th>\n",
       "      <td>2</td>\n",
       "      <td>NaN</td>\n",
       "      <td>b</td>\n",
       "      <td>NaN</td>\n",
       "    </tr>\n",
       "    <tr>\n",
       "      <th>2</th>\n",
       "      <td>4</td>\n",
       "      <td>NaN</td>\n",
       "      <td>c</td>\n",
       "      <td>NaN</td>\n",
       "    </tr>\n",
       "    <tr>\n",
       "      <th>0</th>\n",
       "      <td>1</td>\n",
       "      <td>NaN</td>\n",
       "      <td>NaN</td>\n",
       "      <td>i</td>\n",
       "    </tr>\n",
       "    <tr>\n",
       "      <th>1</th>\n",
       "      <td>2</td>\n",
       "      <td>NaN</td>\n",
       "      <td>NaN</td>\n",
       "      <td>j</td>\n",
       "    </tr>\n",
       "    <tr>\n",
       "      <th>2</th>\n",
       "      <td>4</td>\n",
       "      <td>NaN</td>\n",
       "      <td>NaN</td>\n",
       "      <td>k</td>\n",
       "    </tr>\n",
       "    <tr>\n",
       "      <th>3</th>\n",
       "      <td>5</td>\n",
       "      <td>NaN</td>\n",
       "      <td>NaN</td>\n",
       "      <td>l</td>\n",
       "    </tr>\n",
       "    <tr>\n",
       "      <th>4</th>\n",
       "      <td>6</td>\n",
       "      <td>NaN</td>\n",
       "      <td>NaN</td>\n",
       "      <td>m</td>\n",
       "    </tr>\n",
       "  </tbody>\n",
       "</table>\n",
       "</div>"
      ],
      "text/plain": [
       "   key  col_1 col_2 col_3\n",
       "0    1   10.0   NaN   NaN\n",
       "1    2    3.0   NaN   NaN\n",
       "2    3    2.0   NaN   NaN\n",
       "3    4    5.0   NaN   NaN\n",
       "0    1    NaN     a   NaN\n",
       "1    2    NaN     b   NaN\n",
       "2    4    NaN     c   NaN\n",
       "0    1    NaN   NaN     i\n",
       "1    2    NaN   NaN     j\n",
       "2    4    NaN   NaN     k\n",
       "3    5    NaN   NaN     l\n",
       "4    6    NaN   NaN     m"
      ]
     },
     "metadata": {},
     "output_type": "display_data"
    },
    {
     "data": {
      "text/html": [
       "<div>\n",
       "<style scoped>\n",
       "    .dataframe tbody tr th:only-of-type {\n",
       "        vertical-align: middle;\n",
       "    }\n",
       "\n",
       "    .dataframe tbody tr th {\n",
       "        vertical-align: top;\n",
       "    }\n",
       "\n",
       "    .dataframe thead th {\n",
       "        text-align: right;\n",
       "    }\n",
       "</style>\n",
       "<table border=\"1\" class=\"dataframe\">\n",
       "  <thead>\n",
       "    <tr style=\"text-align: right;\">\n",
       "      <th></th>\n",
       "      <th>key</th>\n",
       "      <th>col_1</th>\n",
       "      <th>col_2</th>\n",
       "    </tr>\n",
       "  </thead>\n",
       "  <tbody>\n",
       "    <tr>\n",
       "      <th>0</th>\n",
       "      <td>1</td>\n",
       "      <td>10</td>\n",
       "      <td>a</td>\n",
       "    </tr>\n",
       "    <tr>\n",
       "      <th>1</th>\n",
       "      <td>2</td>\n",
       "      <td>3</td>\n",
       "      <td>b</td>\n",
       "    </tr>\n",
       "    <tr>\n",
       "      <th>2</th>\n",
       "      <td>3</td>\n",
       "      <td>2</td>\n",
       "      <td>NaN</td>\n",
       "    </tr>\n",
       "    <tr>\n",
       "      <th>3</th>\n",
       "      <td>4</td>\n",
       "      <td>5</td>\n",
       "      <td>c</td>\n",
       "    </tr>\n",
       "  </tbody>\n",
       "</table>\n",
       "</div>"
      ],
      "text/plain": [
       "   key  col_1 col_2\n",
       "0    1     10     a\n",
       "1    2      3     b\n",
       "2    3      2   NaN\n",
       "3    4      5     c"
      ]
     },
     "metadata": {},
     "output_type": "display_data"
    },
    {
     "data": {
      "text/html": [
       "<div>\n",
       "<style scoped>\n",
       "    .dataframe tbody tr th:only-of-type {\n",
       "        vertical-align: middle;\n",
       "    }\n",
       "\n",
       "    .dataframe tbody tr th {\n",
       "        vertical-align: top;\n",
       "    }\n",
       "\n",
       "    .dataframe thead th {\n",
       "        text-align: right;\n",
       "    }\n",
       "</style>\n",
       "<table border=\"1\" class=\"dataframe\">\n",
       "  <thead>\n",
       "    <tr style=\"text-align: right;\">\n",
       "      <th></th>\n",
       "      <th>key_1</th>\n",
       "      <th>col_1</th>\n",
       "      <th>key_2</th>\n",
       "      <th>col_2</th>\n",
       "    </tr>\n",
       "  </thead>\n",
       "  <tbody>\n",
       "    <tr>\n",
       "      <th>0</th>\n",
       "      <td>1</td>\n",
       "      <td>10</td>\n",
       "      <td>1.0</td>\n",
       "      <td>a</td>\n",
       "    </tr>\n",
       "    <tr>\n",
       "      <th>1</th>\n",
       "      <td>2</td>\n",
       "      <td>3</td>\n",
       "      <td>2.0</td>\n",
       "      <td>b</td>\n",
       "    </tr>\n",
       "    <tr>\n",
       "      <th>2</th>\n",
       "      <td>3</td>\n",
       "      <td>2</td>\n",
       "      <td>4.0</td>\n",
       "      <td>c</td>\n",
       "    </tr>\n",
       "    <tr>\n",
       "      <th>3</th>\n",
       "      <td>4</td>\n",
       "      <td>5</td>\n",
       "      <td>NaN</td>\n",
       "      <td>NaN</td>\n",
       "    </tr>\n",
       "  </tbody>\n",
       "</table>\n",
       "</div>"
      ],
      "text/plain": [
       "   key_1  col_1  key_2 col_2\n",
       "0      1     10    1.0     a\n",
       "1      2      3    2.0     b\n",
       "2      3      2    4.0     c\n",
       "3      4      5    NaN   NaN"
      ]
     },
     "metadata": {},
     "output_type": "display_data"
    }
   ],
   "source": [
    "# Join dataframes (see https://pandas.pydata.org/docs/user_guide/merging.html):\n",
    "df_1 = pd.DataFrame({\"key\": [1, 2, 3, 4], \"col_1\": [10, 3, 2, 5]})\n",
    "df_2 = pd.DataFrame({\"key\": [1, 2, 4], \"col_2\": [\"a\", \"b\", \"c\"]})\n",
    "df_3 = pd.DataFrame({\"key\": [1, 2, 4, 5, 6], \"col_3\": [\"i\", \"j\", \"k\", \"l\", 'm']})\n",
    "\n",
    "df_concat = pd.concat([df_1, df_2, df_3], axis=0, join=\"outer\", ignore_index=False) # same columns (or rows if axis=1)\n",
    "df_merge = pd.merge(df_1, df_2, how=\"left\", on=\"key\", sort=True) # add validate=\"one_to_one\" to check keys are unique\n",
    "df_join = df_1.join(df_2, how=\"left\", lsuffix=\"_1\", rsuffix=\"_2\", sort=False) # join on index\n",
    "display(df_concat, df_merge, df_join)"
   ]
  },
  {
   "cell_type": "code",
   "execution_count": 28,
   "id": "4e78be35",
   "metadata": {},
   "outputs": [
    {
     "data": {
      "text/html": [
       "<div>\n",
       "<style scoped>\n",
       "    .dataframe tbody tr th:only-of-type {\n",
       "        vertical-align: middle;\n",
       "    }\n",
       "\n",
       "    .dataframe tbody tr th {\n",
       "        vertical-align: top;\n",
       "    }\n",
       "\n",
       "    .dataframe thead th {\n",
       "        text-align: right;\n",
       "    }\n",
       "</style>\n",
       "<table border=\"1\" class=\"dataframe\">\n",
       "  <thead>\n",
       "    <tr style=\"text-align: right;\">\n",
       "      <th></th>\n",
       "      <th>key</th>\n",
       "      <th>col_1</th>\n",
       "      <th>col_2</th>\n",
       "      <th>col_3</th>\n",
       "    </tr>\n",
       "  </thead>\n",
       "  <tbody>\n",
       "    <tr>\n",
       "      <th>0</th>\n",
       "      <td>1</td>\n",
       "      <td>10.0</td>\n",
       "      <td>a</td>\n",
       "      <td>i</td>\n",
       "    </tr>\n",
       "    <tr>\n",
       "      <th>1</th>\n",
       "      <td>2</td>\n",
       "      <td>3.0</td>\n",
       "      <td>b</td>\n",
       "      <td>j</td>\n",
       "    </tr>\n",
       "    <tr>\n",
       "      <th>2</th>\n",
       "      <td>3</td>\n",
       "      <td>2.0</td>\n",
       "      <td>NaN</td>\n",
       "      <td>NaN</td>\n",
       "    </tr>\n",
       "    <tr>\n",
       "      <th>3</th>\n",
       "      <td>4</td>\n",
       "      <td>5.0</td>\n",
       "      <td>c</td>\n",
       "      <td>k</td>\n",
       "    </tr>\n",
       "    <tr>\n",
       "      <th>4</th>\n",
       "      <td>5</td>\n",
       "      <td>NaN</td>\n",
       "      <td>NaN</td>\n",
       "      <td>l</td>\n",
       "    </tr>\n",
       "    <tr>\n",
       "      <th>5</th>\n",
       "      <td>6</td>\n",
       "      <td>NaN</td>\n",
       "      <td>NaN</td>\n",
       "      <td>m</td>\n",
       "    </tr>\n",
       "  </tbody>\n",
       "</table>\n",
       "</div>"
      ],
      "text/plain": [
       "   key  col_1 col_2 col_3\n",
       "0    1   10.0     a     i\n",
       "1    2    3.0     b     j\n",
       "2    3    2.0   NaN   NaN\n",
       "3    4    5.0     c     k\n",
       "4    5    NaN   NaN     l\n",
       "5    6    NaN   NaN     m"
      ]
     },
     "metadata": {},
     "output_type": "display_data"
    }
   ],
   "source": [
    "# Merge several dataframes in one step:\n",
    "from functools import reduce\n",
    "\n",
    "df_1 = pd.DataFrame({\"key\": [1, 2, 3, 4], \"col_1\": [10, 3, 2, 5]})\n",
    "df_2 = pd.DataFrame({\"key\": [1, 2, 4], \"col_2\": [\"a\", \"b\", \"c\"]})\n",
    "df_3 = pd.DataFrame({\"key\": [1, 2, 4, 5, 6], \"col_3\": [\"i\", \"j\", \"k\", \"l\", 'm']})\n",
    "\n",
    "df_merged = reduce(lambda left, right: pd.merge(left, right, on=[\"key\"], how='outer'), [df_1, df_2, df_3])\n",
    "display(df_merged)"
   ]
  },
  {
   "cell_type": "code",
   "execution_count": 29,
   "id": "20b1d753",
   "metadata": {},
   "outputs": [
    {
     "data": {
      "text/html": [
       "<div>\n",
       "<style scoped>\n",
       "    .dataframe tbody tr th:only-of-type {\n",
       "        vertical-align: middle;\n",
       "    }\n",
       "\n",
       "    .dataframe tbody tr th {\n",
       "        vertical-align: top;\n",
       "    }\n",
       "\n",
       "    .dataframe thead th {\n",
       "        text-align: right;\n",
       "    }\n",
       "</style>\n",
       "<table border=\"1\" class=\"dataframe\">\n",
       "  <thead>\n",
       "    <tr style=\"text-align: right;\">\n",
       "      <th></th>\n",
       "      <th>group</th>\n",
       "      <th>value</th>\n",
       "    </tr>\n",
       "  </thead>\n",
       "  <tbody>\n",
       "    <tr>\n",
       "      <th>0</th>\n",
       "      <td>1</td>\n",
       "      <td>a</td>\n",
       "    </tr>\n",
       "    <tr>\n",
       "      <th>1</th>\n",
       "      <td>1</td>\n",
       "      <td>b</td>\n",
       "    </tr>\n",
       "    <tr>\n",
       "      <th>2</th>\n",
       "      <td>2</td>\n",
       "      <td>a</td>\n",
       "    </tr>\n",
       "    <tr>\n",
       "      <th>3</th>\n",
       "      <td>2</td>\n",
       "      <td>b</td>\n",
       "    </tr>\n",
       "    <tr>\n",
       "      <th>4</th>\n",
       "      <td>3</td>\n",
       "      <td>a</td>\n",
       "    </tr>\n",
       "    <tr>\n",
       "      <th>5</th>\n",
       "      <td>3</td>\n",
       "      <td>b</td>\n",
       "    </tr>\n",
       "    <tr>\n",
       "      <th>6</th>\n",
       "      <td>3</td>\n",
       "      <td>c</td>\n",
       "    </tr>\n",
       "  </tbody>\n",
       "</table>\n",
       "</div>"
      ],
      "text/plain": [
       "   group value\n",
       "0      1     a\n",
       "1      1     b\n",
       "2      2     a\n",
       "3      2     b\n",
       "4      3     a\n",
       "5      3     b\n",
       "6      3     c"
      ]
     },
     "metadata": {},
     "output_type": "display_data"
    },
    {
     "data": {
      "text/html": [
       "<div>\n",
       "<style scoped>\n",
       "    .dataframe tbody tr th:only-of-type {\n",
       "        vertical-align: middle;\n",
       "    }\n",
       "\n",
       "    .dataframe tbody tr th {\n",
       "        vertical-align: top;\n",
       "    }\n",
       "\n",
       "    .dataframe thead th {\n",
       "        text-align: right;\n",
       "    }\n",
       "</style>\n",
       "<table border=\"1\" class=\"dataframe\">\n",
       "  <thead>\n",
       "    <tr style=\"text-align: right;\">\n",
       "      <th></th>\n",
       "      <th>group</th>\n",
       "      <th>value</th>\n",
       "    </tr>\n",
       "  </thead>\n",
       "  <tbody>\n",
       "    <tr>\n",
       "      <th>0</th>\n",
       "      <td>1</td>\n",
       "      <td>a, b</td>\n",
       "    </tr>\n",
       "    <tr>\n",
       "      <th>1</th>\n",
       "      <td>2</td>\n",
       "      <td>a, b</td>\n",
       "    </tr>\n",
       "    <tr>\n",
       "      <th>2</th>\n",
       "      <td>3</td>\n",
       "      <td>a, b, c</td>\n",
       "    </tr>\n",
       "  </tbody>\n",
       "</table>\n",
       "</div>"
      ],
      "text/plain": [
       "   group    value\n",
       "0      1     a, b\n",
       "1      2     a, b\n",
       "2      3  a, b, c"
      ]
     },
     "metadata": {},
     "output_type": "display_data"
    }
   ],
   "source": [
    "# Get all values concatenated into a string by group (example -> list of products):\n",
    "df = pd.DataFrame({\"group\": [1, 1, 2, 2, 3, 3, 3], \"value\": [\"a\", \"b\", \"a\", \"b\", \"a\", \"b\", \"c\"]})\n",
    "df_group = df.sort_values([\"group\",\"value\"]).groupby(\"group\")[\"value\"].apply(lambda string: ', '.join(string)).reset_index()\n",
    "display(df, df_group)"
   ]
  },
  {
   "cell_type": "code",
   "execution_count": 32,
   "id": "09a0c150",
   "metadata": {},
   "outputs": [
    {
     "data": {
      "text/html": [
       "<div>\n",
       "<style scoped>\n",
       "    .dataframe tbody tr th:only-of-type {\n",
       "        vertical-align: middle;\n",
       "    }\n",
       "\n",
       "    .dataframe tbody tr th {\n",
       "        vertical-align: top;\n",
       "    }\n",
       "\n",
       "    .dataframe thead th {\n",
       "        text-align: right;\n",
       "    }\n",
       "</style>\n",
       "<table border=\"1\" class=\"dataframe\">\n",
       "  <thead>\n",
       "    <tr style=\"text-align: right;\">\n",
       "      <th>group_2</th>\n",
       "      <th>a</th>\n",
       "      <th>b</th>\n",
       "    </tr>\n",
       "    <tr>\n",
       "      <th>group_1</th>\n",
       "      <th></th>\n",
       "      <th></th>\n",
       "    </tr>\n",
       "  </thead>\n",
       "  <tbody>\n",
       "    <tr>\n",
       "      <th>1</th>\n",
       "      <td>5</td>\n",
       "      <td>1</td>\n",
       "    </tr>\n",
       "    <tr>\n",
       "      <th>2</th>\n",
       "      <td>4</td>\n",
       "      <td>2</td>\n",
       "    </tr>\n",
       "  </tbody>\n",
       "</table>\n",
       "</div>"
      ],
      "text/plain": [
       "group_2  a  b\n",
       "group_1      \n",
       "1        5  1\n",
       "2        4  2"
      ]
     },
     "metadata": {},
     "output_type": "display_data"
    },
    {
     "data": {
      "text/html": [
       "<div>\n",
       "<style scoped>\n",
       "    .dataframe tbody tr th:only-of-type {\n",
       "        vertical-align: middle;\n",
       "    }\n",
       "\n",
       "    .dataframe tbody tr th {\n",
       "        vertical-align: top;\n",
       "    }\n",
       "\n",
       "    .dataframe thead th {\n",
       "        text-align: right;\n",
       "    }\n",
       "</style>\n",
       "<table border=\"1\" class=\"dataframe\">\n",
       "  <thead>\n",
       "    <tr style=\"text-align: right;\">\n",
       "      <th>group_2</th>\n",
       "      <th>a</th>\n",
       "      <th>b</th>\n",
       "      <th>All</th>\n",
       "    </tr>\n",
       "    <tr>\n",
       "      <th>group_1</th>\n",
       "      <th></th>\n",
       "      <th></th>\n",
       "      <th></th>\n",
       "    </tr>\n",
       "  </thead>\n",
       "  <tbody>\n",
       "    <tr>\n",
       "      <th>1</th>\n",
       "      <td>495</td>\n",
       "      <td>300</td>\n",
       "      <td>795</td>\n",
       "    </tr>\n",
       "    <tr>\n",
       "      <th>2</th>\n",
       "      <td>440</td>\n",
       "      <td>250</td>\n",
       "      <td>690</td>\n",
       "    </tr>\n",
       "    <tr>\n",
       "      <th>All</th>\n",
       "      <td>935</td>\n",
       "      <td>550</td>\n",
       "      <td>1485</td>\n",
       "    </tr>\n",
       "  </tbody>\n",
       "</table>\n",
       "</div>"
      ],
      "text/plain": [
       "group_2    a    b   All\n",
       "group_1                \n",
       "1        495  300   795\n",
       "2        440  250   690\n",
       "All      935  550  1485"
      ]
     },
     "metadata": {},
     "output_type": "display_data"
    }
   ],
   "source": [
    "# Compute cross tabulation (by default, frequency table of 2 or more groups):\n",
    "df = pd.DataFrame({\"group_1\": [1, 1, 2, 2, 1, 1, 1, 2, 2, 2, 1, 2], \n",
    "                   \"group_2\": [\"a\", \"a\", \"a\", \"b\", \"a\", \"b\", \"a\", \"a\", \"a\", \"b\", \"a\", \"a\"], \n",
    "                   \"value\": [10, 20, 30, 100, 200, 300, 15, 25, 35, 150, 250, 350]})\n",
    "df_frequency = pd.crosstab(index=df[\"group_1\"], columns=df[\"group_2\"])\n",
    "df_sum = pd.crosstab(index=df[\"group_1\"], columns=df[\"group_2\"], values=df[\"value\"], aggfunc=sum, margins=True)\n",
    "display(df_frequency, df_sum)"
   ]
  },
  {
   "cell_type": "code",
   "execution_count": 33,
   "id": "022e3af8",
   "metadata": {},
   "outputs": [
    {
     "data": {
      "text/html": [
       "<div>\n",
       "<style scoped>\n",
       "    .dataframe tbody tr th:only-of-type {\n",
       "        vertical-align: middle;\n",
       "    }\n",
       "\n",
       "    .dataframe tbody tr th {\n",
       "        vertical-align: top;\n",
       "    }\n",
       "\n",
       "    .dataframe thead th {\n",
       "        text-align: right;\n",
       "    }\n",
       "</style>\n",
       "<table border=\"1\" class=\"dataframe\">\n",
       "  <thead>\n",
       "    <tr style=\"text-align: right;\">\n",
       "      <th>group_2</th>\n",
       "      <th>a</th>\n",
       "      <th>b</th>\n",
       "    </tr>\n",
       "    <tr>\n",
       "      <th>group_1</th>\n",
       "      <th></th>\n",
       "      <th></th>\n",
       "    </tr>\n",
       "  </thead>\n",
       "  <tbody>\n",
       "    <tr>\n",
       "      <th>1</th>\n",
       "      <td>495</td>\n",
       "      <td>300</td>\n",
       "    </tr>\n",
       "    <tr>\n",
       "      <th>2</th>\n",
       "      <td>440</td>\n",
       "      <td>250</td>\n",
       "    </tr>\n",
       "  </tbody>\n",
       "</table>\n",
       "</div>"
      ],
      "text/plain": [
       "group_2    a    b\n",
       "group_1          \n",
       "1        495  300\n",
       "2        440  250"
      ]
     },
     "metadata": {},
     "output_type": "display_data"
    }
   ],
   "source": [
    "# Get sum of a column by groups using pivot_table:\n",
    "df = pd.DataFrame({\"index\": [1, 2, 3, 4, 5, 6, 7, 8, 9, 10, 11, 12],\n",
    "                   \"group_1\": [1, 1, 2, 2, 1, 1, 1, 2, 2, 2, 1, 2], \n",
    "                   \"group_2\": [\"a\", \"a\", \"a\", \"b\", \"a\", \"b\", \"a\", \"a\", \"a\", \"b\", \"a\", \"a\"], \n",
    "                   \"value\": [10, 20, 30, 100, 200, 300, 15, 25, 35, 150, 250, 350]})\n",
    "df_group = pd.DataFrame(df.groupby([\"group_1\", \"group_2\"])[\"value\"].sum().rename(\"sum\")).reset_index()\n",
    "df_pivot = pd.pivot_table(df_group, values=\"sum\", index=\"group_1\", columns=\"group_2\", aggfunc=\"sum\", fill_value=0, dropna=False)\n",
    "display(df_pivot)"
   ]
  },
  {
   "cell_type": "code",
   "execution_count": 34,
   "id": "4c4f5a5d",
   "metadata": {},
   "outputs": [
    {
     "data": {
      "text/html": [
       "<div>\n",
       "<style scoped>\n",
       "    .dataframe tbody tr th:only-of-type {\n",
       "        vertical-align: middle;\n",
       "    }\n",
       "\n",
       "    .dataframe tbody tr th {\n",
       "        vertical-align: top;\n",
       "    }\n",
       "\n",
       "    .dataframe thead th {\n",
       "        text-align: right;\n",
       "    }\n",
       "</style>\n",
       "<table border=\"1\" class=\"dataframe\">\n",
       "  <thead>\n",
       "    <tr style=\"text-align: right;\">\n",
       "      <th></th>\n",
       "      <th>value</th>\n",
       "      <th>val_1</th>\n",
       "      <th>val_2</th>\n",
       "      <th>val_3</th>\n",
       "    </tr>\n",
       "    <tr>\n",
       "      <th>group_1</th>\n",
       "      <th>group_2</th>\n",
       "      <th></th>\n",
       "      <th></th>\n",
       "      <th></th>\n",
       "    </tr>\n",
       "  </thead>\n",
       "  <tbody>\n",
       "    <tr>\n",
       "      <th rowspan=\"2\" valign=\"top\">1</th>\n",
       "      <th>a</th>\n",
       "      <td>2</td>\n",
       "      <td>2</td>\n",
       "      <td>1</td>\n",
       "    </tr>\n",
       "    <tr>\n",
       "      <th>b</th>\n",
       "      <td>0</td>\n",
       "      <td>0</td>\n",
       "      <td>1</td>\n",
       "    </tr>\n",
       "    <tr>\n",
       "      <th rowspan=\"2\" valign=\"top\">2</th>\n",
       "      <th>a</th>\n",
       "      <td>3</td>\n",
       "      <td>1</td>\n",
       "      <td>0</td>\n",
       "    </tr>\n",
       "    <tr>\n",
       "      <th>b</th>\n",
       "      <td>1</td>\n",
       "      <td>1</td>\n",
       "      <td>0</td>\n",
       "    </tr>\n",
       "  </tbody>\n",
       "</table>\n",
       "</div>"
      ],
      "text/plain": [
       "value            val_1  val_2  val_3\n",
       "group_1 group_2                     \n",
       "1       a            2      2      1\n",
       "        b            0      0      1\n",
       "2       a            3      1      0\n",
       "        b            1      1      0"
      ]
     },
     "metadata": {},
     "output_type": "display_data"
    }
   ],
   "source": [
    "# Get count of each value of a column by groups using pivot_table:\n",
    "df = pd.DataFrame({\"index\": [1, 2, 3, 4, 5, 6, 7, 8, 9, 10, 11, 12],\n",
    "                   \"group_1\": [1, 1, 2, 2, 1, 1, 1, 2, 2, 2, 1, 2], \n",
    "                   \"group_2\": [\"a\", \"a\", \"a\", \"b\", \"a\", \"b\", \"a\", \"a\", \"a\", \"b\", \"a\", \"a\"], \n",
    "                   \"value\": [\"val_1\", \"val_2\", \"val_1\", \"val_2\", \"val_1\", \"val_3\", \"val_3\", \"val_1\", \"val_1\", \"val_1\", \"val_2\", \"val_2\"]})\n",
    "df_group = pd.DataFrame(df.groupby([\"group_1\", \"group_2\"])[\"value\"].value_counts().rename(\"count\")).reset_index()\n",
    "df_pivot = pd.pivot_table(df_group, values=\"count\", index=[\"group_1\", \"group_2\"], columns=\"value\", aggfunc=\"max\", fill_value=0, dropna=False)\n",
    "display(df_pivot)"
   ]
  },
  {
   "cell_type": "markdown",
   "id": "5638c261",
   "metadata": {},
   "source": [
    "#### Functions"
   ]
  },
  {
   "cell_type": "code",
   "execution_count": 35,
   "id": "0c9b691b",
   "metadata": {},
   "outputs": [
    {
     "name": "stdout",
     "output_type": "stream",
     "text": [
      "9\n"
     ]
    }
   ],
   "source": [
    "# Lambda functions are small anonymous functions (defined without a name):\n",
    "example_function = lambda x: x * 2 if x % 2 == 0 else x * 3\n",
    "print(example_function(3))"
   ]
  },
  {
   "cell_type": "code",
   "execution_count": 36,
   "id": "245cc880",
   "metadata": {},
   "outputs": [
    {
     "name": "stdout",
     "output_type": "stream",
     "text": [
      "Arguments: [1, 2, 3]\n"
     ]
    }
   ],
   "source": [
    "# Define a function that can take as many parameters as wanted:\n",
    "def my_function(*arguments):\n",
    "    return f\"Arguments: {str(list(arguments))}\"\n",
    "print(my_function(1, 2, 3))"
   ]
  },
  {
   "cell_type": "markdown",
   "id": "e8a221f0",
   "metadata": {},
   "source": [
    "#### Plots"
   ]
  },
  {
   "cell_type": "code",
   "execution_count": 37,
   "id": "aeb5fce3",
   "metadata": {},
   "outputs": [],
   "source": [
    "from matplotlib import pyplot as plt\n",
    "import numpy as np\n",
    "import pandas as pd"
   ]
  },
  {
   "cell_type": "code",
   "execution_count": 40,
   "id": "5525232c",
   "metadata": {},
   "outputs": [
    {
     "data": {
      "text/html": [
       "<div>\n",
       "<style scoped>\n",
       "    .dataframe tbody tr th:only-of-type {\n",
       "        vertical-align: middle;\n",
       "    }\n",
       "\n",
       "    .dataframe tbody tr th {\n",
       "        vertical-align: top;\n",
       "    }\n",
       "\n",
       "    .dataframe thead th {\n",
       "        text-align: right;\n",
       "    }\n",
       "</style>\n",
       "<table border=\"1\" class=\"dataframe\">\n",
       "  <thead>\n",
       "    <tr style=\"text-align: right;\">\n",
       "      <th>level</th>\n",
       "      <th>level</th>\n",
       "      <th>low</th>\n",
       "      <th>medium</th>\n",
       "      <th>high</th>\n",
       "    </tr>\n",
       "  </thead>\n",
       "  <tbody>\n",
       "    <tr>\n",
       "      <th>0</th>\n",
       "      <td>group_1</td>\n",
       "      <td>0.200000</td>\n",
       "      <td>0.600000</td>\n",
       "      <td>0.200000</td>\n",
       "    </tr>\n",
       "    <tr>\n",
       "      <th>1</th>\n",
       "      <td>group_2</td>\n",
       "      <td>0.526316</td>\n",
       "      <td>0.210526</td>\n",
       "      <td>0.263158</td>\n",
       "    </tr>\n",
       "    <tr>\n",
       "      <th>2</th>\n",
       "      <td>group_3</td>\n",
       "      <td>0.038462</td>\n",
       "      <td>0.769231</td>\n",
       "      <td>0.192308</td>\n",
       "    </tr>\n",
       "  </tbody>\n",
       "</table>\n",
       "</div>"
      ],
      "text/plain": [
       "level    level       low    medium      high\n",
       "0      group_1  0.200000  0.600000  0.200000\n",
       "1      group_2  0.526316  0.210526  0.263158\n",
       "2      group_3  0.038462  0.769231  0.192308"
      ]
     },
     "metadata": {},
     "output_type": "display_data"
    }
   ],
   "source": [
    "df = pd.DataFrame({\n",
    "    \"id\": [1, 2, 3, 4, 5, 6, 7, 8, 9, 10, 11, 12],\n",
    "    \"var_1\": [1000, 1506, 3030, 2076, 1550, 4802, 4003, 598, 909, 230, 345, 9878],\n",
    "    \"var_2\": [0.1, 0.3, 1.5, 5.5, 0.4, 0.3, 2.2, 1.8, 3.5, 0.3, 1.2, 4.5],\n",
    "    \"var_3\": [\"a\", \"a\", \"a\", \"a\", \"a\", \"a\", \"b\", \"b\", \"b\", \"b\", \"b\", \"b\"],\n",
    "    \"var_4\": [\"i\", \"j\", \"k\", \"i\", \"j\", \"k\", \"i\", \"j\", \"k\", \"i\", \"j\", \"k\"],\n",
    "    \"var_5\": [\"2000-01-01\", \"2000-02-01\", \"2000-03-01\", \"2000-04-01\", \"2000-05-01\", \"2000-06-01\", \n",
    "              \"2000-07-01\", \"2000-08-01\", \"2000-09-01\", \"2000-10-01\", \"2000-11-01\", \"2000-12-01\"],\n",
    "    \"var_6\": [\"k\", \"i\", \"j\", \"j\", \"j\", \"k\", \"k\", \"i\", \"k\", \"i\", \"k\", \"k\"],\n",
    "})\n",
    "\n",
    "df_distr = pd.DataFrame({\n",
    "    \"level\": [\"low\", \"medium\", \"high\"],\n",
    "    \"group_1\": [20, 60, 20],\n",
    "    \"group_2\": [10, 4, 5],\n",
    "    \"group_3\": [2, 40, 10]\n",
    "})\n",
    "\n",
    "df_pct = df_distr.set_index(\"level\").div(df_distr.set_index(\"level\").sum(axis=0), axis=1).transpose()\\\n",
    "    .reset_index().rename({\"index\":\"level\"}, axis=1)\n",
    "display(df_pct)"
   ]
  },
  {
   "cell_type": "code",
   "execution_count": 41,
   "id": "263b8f6e",
   "metadata": {},
   "outputs": [
    {
     "data": {
      "image/png": "[encoded data removed]",
      "text/plain": [
       "<Figure size 720x360 with 1 Axes>"
      ]
     },
     "metadata": {
      "needs_background": "light"
     },
     "output_type": "display_data"
    }
   ],
   "source": [
    "# Vertical barplot\n",
    "yvalues = df.var_1\n",
    "xvalues = df.id\n",
    "plt.rcParams[\"figure.figsize\"] = (10,5)\n",
    "fig, ax = plt.subplots()\n",
    "bar1 = ax.bar(xvalues, yvalues, align=\"center\", color=\"darkblue\")\n",
    "ax.set_xticks(np.arange(len(xvalues))+1, labels=xvalues)\n",
    "ax.set_ylabel(\"var_1\")\n",
    "ax.set_title(\"Vertical barplot\")\n",
    "ax.bar_label(bar1)\n",
    "plt.show()"
   ]
  },
  {
   "cell_type": "code",
   "execution_count": 42,
   "id": "32ebe936",
   "metadata": {},
   "outputs": [
    {
     "data": {
      "image/png": "[encoded data removed]",
      "text/plain": [
       "<Figure size 720x360 with 1 Axes>"
      ]
     },
     "metadata": {
      "needs_background": "light"
     },
     "output_type": "display_data"
    }
   ],
   "source": [
    "# Horizontal barplot\n",
    "yvalues = df.var_1\n",
    "xvalues = df.id\n",
    "plt.rcParams[\"figure.figsize\"] = (10,5)\n",
    "fig, ax = plt.subplots()\n",
    "bar1 = ax.barh(xvalues, yvalues, align=\"center\", color=\"darkblue\")\n",
    "ax.invert_yaxis()\n",
    "ax.set_yticks(np.arange(len(xvalues))+1, labels=xvalues)\n",
    "ax.set_ylabel(\"var_1\")\n",
    "ax.set_title(\"Horizontal barplot\")\n",
    "ax.bar_label(bar1)\n",
    "plt.show()"
   ]
  },
  {
   "cell_type": "code",
   "execution_count": 43,
   "id": "ffcaf97e",
   "metadata": {},
   "outputs": [
    {
     "data": {
      "image/png": "[encoded data removed]",
      "text/plain": [
       "<Figure size 720x360 with 1 Axes>"
      ]
     },
     "metadata": {
      "needs_background": "light"
     },
     "output_type": "display_data"
    }
   ],
   "source": [
    "# Grouped plot\n",
    "yvalues_1 = df.var_1\n",
    "yvalues_2 = df.var_2 * 1000\n",
    "xvalues = df.id \n",
    "label_pos = np.arange(len(df.id))\n",
    "max_val = max(df.var_1.max(), df.var_2.max()*1000)\n",
    "width = 0.35  # the width of the bars\n",
    "\n",
    "fig, ax = plt.subplots()\n",
    "ax.set_ylim([0, max_val * 1.1])\n",
    "bar1 = ax.bar(label_pos - width/2, yvalues_1, width, label=\"var_1\")\n",
    "bar2 = ax.bar(label_pos + width/2, yvalues_2, width, label=\"var_2 * 1000\")\n",
    "ax.set_ylabel(\"Values\")\n",
    "ax.set_title(\"Grouped plot\")\n",
    "ax.set_xticks(label_pos, xvalues)\n",
    "ax.legend()\n",
    "ax.bar_label(bar1, padding=3)\n",
    "ax.bar_label(bar2, padding=3)\n",
    "fig.tight_layout()\n",
    "plt.show()"
   ]
  },
  {
   "cell_type": "code",
   "execution_count": 45,
   "id": "7d1e8dbe",
   "metadata": {},
   "outputs": [
    {
     "data": {
      "image/png": "[encoded data removed]",
      "text/plain": [
       "<Figure size 720x360 with 1 Axes>"
      ]
     },
     "metadata": {
      "needs_background": "light"
     },
     "output_type": "display_data"
    }
   ],
   "source": [
    "# Distribution plot with percentages\n",
    "ax = df_pct.plot.bar(x=\"level\", stacked=True, title=\"Distribution plot\",)\n",
    "ax.legend(loc='center left', bbox_to_anchor=(1, 0.5))\n",
    "for p in ax.patches:\n",
    "    width, height = p.get_width(), p.get_height()\n",
    "    x, y = p.get_xy() \n",
    "    ax.text(x+width/2, \n",
    "            y+height/2, \n",
    "            '{:.1f} %'.format(round(height,3)*100), \n",
    "            horizontalalignment='center', \n",
    "            verticalalignment='center')\n",
    "plt.show()"
   ]
  },
  {
   "cell_type": "code",
   "execution_count": 46,
   "id": "1d175a64",
   "metadata": {},
   "outputs": [
    {
     "data": {
      "image/png": "[encoded data removed]",
      "text/plain": [
       "<Figure size 720x360 with 2 Axes>"
      ]
     },
     "metadata": {
      "needs_background": "light"
     },
     "output_type": "display_data"
    }
   ],
   "source": [
    "# Several line plots\n",
    "yvalues_1 = df.var_1\n",
    "xvalues_1 = df.id \n",
    "label_pos_1 = np.arange(len(df.id))+1 # numerical xaxis\n",
    "yvalues_2 = df.var_2\n",
    "xvalues_2 = df.var_5\n",
    "label_pos_2 = np.arange(len(df.var_5)) # categorical xaxis\n",
    "\n",
    "fig, (ax1, ax2) = plt.subplots(1, 2)\n",
    "ax1.plot(xvalues_1, yvalues_1, linewidth=1, color=\"blue\")\n",
    "ax1.set_title(\"1st line plot\")\n",
    "ax1.set_xticks(label_pos_1, xvalues_1)\n",
    "ax1.set_xlabel(\"id\")\n",
    "ax1.set_ylabel(\"var_1\")\n",
    "\n",
    "ax2.plot(xvalues_2, yvalues_2, linewidth=1, color=\"green\", linestyle=\"dashed\")\n",
    "ax2.set_title(\"2nd line plot\")\n",
    "ax2.set_xticks(label_pos_2, xvalues_2, rotation = 90)\n",
    "ax2.set_xlabel(\"var_5\")\n",
    "ax2.set_ylabel(\"var_2\")\n",
    "fig.suptitle(\"Several line plots\", fontsize=16)\n",
    "plt.show()"
   ]
  },
  {
   "cell_type": "markdown",
   "id": "f62abbf3",
   "metadata": {},
   "source": [
    "#### Others"
   ]
  },
  {
   "cell_type": "code",
   "execution_count": 47,
   "id": "15a9e2b8",
   "metadata": {},
   "outputs": [
    {
     "name": "stdout",
     "output_type": "stream",
     "text": [
      "1 2 3 4\n"
     ]
    }
   ],
   "source": [
    "# Assign multiple elements in 1 row:\n",
    "a, b, c, d = 1, 2, 3, 4\n",
    "print(a, b, c, d)"
   ]
  },
  {
   "cell_type": "code",
   "execution_count": 48,
   "id": "67042b5e",
   "metadata": {},
   "outputs": [
    {
     "name": "stdout",
     "output_type": "stream",
     "text": [
      "b a\n"
     ]
    }
   ],
   "source": [
    "# Swap values between objects:\n",
    "variable_1 = \"a\"\n",
    "variable_2 = \"b\"\n",
    "variable_1, variable_2 = variable_2, variable_1\n",
    "print(variable_1, variable_2)"
   ]
  },
  {
   "cell_type": "code",
   "execution_count": 49,
   "id": "b3e4a43d",
   "metadata": {},
   "outputs": [
    {
     "name": "stdout",
     "output_type": "stream",
     "text": [
      "Passed all the conditions\n"
     ]
    }
   ],
   "source": [
    "# Multiple conditions in single if statement:\n",
    "variable_1 = 2\n",
    "variable_2 = 10\n",
    "variable_3 = \"a\"\n",
    "\n",
    "my_conditions = [variable_1 % 2 == 0, variable_2 > 5, variable_3 != \"b\"]\n",
    "\n",
    "if all(my_conditions):\n",
    "    print(\"Passed all the conditions\")\n",
    "else:\n",
    "    print(\"At least one condition is not passed\")"
   ]
  },
  {
   "cell_type": "code",
   "execution_count": 50,
   "id": "698795ff",
   "metadata": {},
   "outputs": [
    {
     "name": "stdout",
     "output_type": "stream",
     "text": [
      "yes\n"
     ]
    }
   ],
   "source": [
    "# Put if condition on 1 line:\n",
    "is_condition = True\n",
    "x = \"yes\" if is_condition else \"no\"\n",
    "print(x)"
   ]
  },
  {
   "cell_type": "code",
   "execution_count": 51,
   "id": "b9d06761",
   "metadata": {},
   "outputs": [
    {
     "name": "stdout",
     "output_type": "stream",
     "text": [
      "57 28\n"
     ]
    }
   ],
   "source": [
    "# Check memory usage of an object:\n",
    "import sys\n",
    "example_1 = \"A string\"\n",
    "example_2 = 12345\n",
    "print(sys.getsizeof(example_1), sys.getsizeof(example_2))"
   ]
  },
  {
   "cell_type": "code",
   "execution_count": 52,
   "id": "e5e9ff61",
   "metadata": {},
   "outputs": [
    {
     "name": "stdout",
     "output_type": "stream",
     "text": [
      "Hello!\n",
      "--- 0.0 seconds ---\n"
     ]
    }
   ],
   "source": [
    "# Get execution time:\n",
    "import time\n",
    "start_time = time.time()\n",
    "# do stuff\n",
    "print(\"Hello!\")\n",
    "print(\"--- %s seconds ---\" % (time.time() - start_time))"
   ]
  },
  {
   "cell_type": "code",
   "execution_count": 53,
   "id": "117a1a1b",
   "metadata": {},
   "outputs": [
    {
     "name": "stdout",
     "output_type": "stream",
     "text": [
      "[1, 2, 3, 4, 5] --> [1, 4, 9, 16, 25]\n",
      "[-5, -4, -3, -2, -1, 0, 1, 2, 3, 4] --> [-5, -4, -3, -2, -1]\n",
      "[1, 2, 3, 4] --> 24\n"
     ]
    }
   ],
   "source": [
    "# Map, reduce, filter (see https://book.pythontips.com/en/latest/map_filter.html)\n",
    "items = [1, 2, 3, 4, 5]\n",
    "squared = list(map(lambda x: x**2, items)) # apply function to all items in list\n",
    "print(items, \"-->\", squared)\n",
    "\n",
    "number_list = range(-5, 5)\n",
    "less_than_zero = list(filter(lambda x: x < 0, number_list)) # get list of elements for which a function returns true\n",
    "print(list(number_list), \"-->\", less_than_zero)\n",
    "\n",
    "from functools import reduce\n",
    "input_list = [1, 2, 3, 4]\n",
    "product = reduce((lambda x, y: x * y), input_list) # perform computation on a list and return the result\n",
    "print(input_list, \"-->\", product)"
   ]
  },
  {
   "cell_type": "markdown",
   "id": "b9b351a5",
   "metadata": {},
   "source": [
    "## Datascience"
   ]
  },
  {
   "cell_type": "markdown",
   "id": "3d7911bd",
   "metadata": {},
   "source": [
    "#### Control group"
   ]
  },
  {
   "cell_type": "code",
   "execution_count": null,
   "id": "cb2d8bee",
   "metadata": {},
   "outputs": [],
   "source": [
    "# Create train and test sets for model evaluation:\n",
    "from sklearn.model_selection import train_test_split\n",
    "\n",
    "X_train, X_test, y_train, y_test = train_test_split(X, y, test_size=0.2, random_state=42)"
   ]
  },
  {
   "cell_type": "markdown",
   "id": "be39636f",
   "metadata": {},
   "source": [
    "#### Algorithms"
   ]
  },
  {
   "cell_type": "code",
   "execution_count": null,
   "id": "baf85b4a",
   "metadata": {},
   "outputs": [],
   "source": [
    "# Classification models:\n",
    "from sklearn.linear_model import LogisticRegression\n",
    "from sklearn.svm import SVC\n",
    "from sklearn.neighbors import KNeighborsClassifier\n",
    "from sklearn.tree import DecisionTreeClassifier\n",
    "from sklearn.ensemble import RandomForestClassifier, AdaBoostClassifier, GradientBoostingClassifier\n",
    "\n",
    "LogisticRegression(penalty=\"l2\", dual=False, tol=0.0001, C=1.0, fit_intercept=True, intercept_scaling=1, class_weight=None, \n",
    "                   random_state=42, solver=\"lbfgs\", max_iter=100, warm_start=False, n_jobs=None, l1_ratio=None)\n",
    "\n",
    "SVC(C=1.0, kernel=\"rbf\", degree=3, gamma=\"scale\", coef0=0.0, shrinking=True, probability=False, tol=0.001, class_weight=None, \n",
    "    max_iter=-1, decision_function_shape=\"ovr\", break_ties=False, random_state=42)\n",
    "\n",
    "KNeighborsClassifier(n_neighbors=5, weights=\"uniform\", algorithm=\"auto\", leaf_size=30, p=2, metric=\"minkowski\", \n",
    "                     metric_params=None, n_jobs=None)\n",
    "\n",
    "DecisionTreeClassifier(criterion=\"gini\", splitter=\"best\", max_depth=None, min_samples_split=2, min_samples_leaf=1, \n",
    "                       min_weight_fraction_leaf=0.0, max_features=None, random_state=42, max_leaf_nodes=None, \n",
    "                       min_impurity_decrease=0.0, class_weight=None, ccp_alpha=0.0)\n",
    "\n",
    "RandomForestClassifier(n_estimators=100, criterion=\"gini\", max_depth=None, min_samples_split=2, min_samples_leaf=1, \n",
    "                       min_weight_fraction_leaf=0.0, max_features=\"sqrt\", max_leaf_nodes=None, min_impurity_decrease=0.0, \n",
    "                       bootstrap=True, oob_score=False, n_jobs=None, random_state=42, warm_start=False, class_weight=None, \n",
    "                       ccp_alpha=0.0, max_samples=None)\n",
    "\n",
    "AdaBoostClassifier(base_estimator=DecisionTreeClassifier(max_depth=1), n_estimators=50, learning_rate=1.0, \n",
    "                   algorithm=\"SAMME.R\", random_state=42)\n",
    "\n",
    "GradientBoostingClassifier(loss=\"log_loss\", learning_rate=0.1, n_estimators=100, subsample=1.0, criterion=\"friedman_mse\", \n",
    "                           min_samples_split=2, min_samples_leaf=1, min_weight_fraction_leaf=0.0, max_depth=3, \n",
    "                           min_impurity_decrease=0.0, init=None, random_state=42, max_features=None, max_leaf_nodes=None, \n",
    "                           warm_start=False, validation_fraction=0.1, n_iter_no_change=None, tol=0.0001, ccp_alpha=0.0)"
   ]
  },
  {
   "cell_type": "code",
   "execution_count": null,
   "id": "de155c46",
   "metadata": {},
   "outputs": [],
   "source": [
    "# Regression models:\n",
    "from sklearn.linear_model import LinearRegression, ElasticNet\n",
    "from sklearn.svm import SVR\n",
    "from sklearn.neighbors import KNeighborsRegressor\n",
    "from sklearn.tree import DecisionTreeRegressor\n",
    "from sklearn.ensemble import RandomForestRegressor, AdaBoostRegressor, GradientBoostingRegressor\n",
    "\n",
    "LinearRegression(fit_intercept=True, n_jobs=None, positive=False)\n",
    "\n",
    "ElasticNet(alpha=1.0, l1_ratio=0.5, fit_intercept=True, max_iter=1000, tol=0.0001, warm_start=False, positive=False, \n",
    "           random_state=42, selection=\"cyclic\")\n",
    "\n",
    "SVR(kernel=\"rbf\", degree=3, gamma=\"scale\", coef0=0.0, tol=0.001, C=1.0, epsilon=0.1, shrinking=True, max_iter=-1)\n",
    "\n",
    "KNeighborsRegressor(n_neighbors=5, *, weights=\"uniform\", algorithm=\"auto\", leaf_size=30, p=2, \n",
    "                    metric=\"minkowski\", metric_params=None, n_jobs=None)\n",
    "\n",
    "DecisionTreeRegressor(criterion=\"squared_error\", splitter=\"best\", max_depth=None, min_samples_split=2, min_samples_leaf=1, \n",
    "                      min_weight_fraction_leaf=0.0, max_features=None, random_state=42, max_leaf_nodes=None, \n",
    "                      min_impurity_decrease=0.0, ccp_alpha=0.0)\n",
    "\n",
    "RandomForestRegressor(n_estimators=100, criterion=\"squared_error\", max_depth=None, min_samples_split=2, min_samples_leaf=1, \n",
    "                      min_weight_fraction_leaf=0.0, max_features=1.0, max_leaf_nodes=None, min_impurity_decrease=0.0, \n",
    "                      bootstrap=True, oob_score=False, n_jobs=None, random_state=42, warm_start=False, ccp_alpha=0.0, \n",
    "                      max_samples=None)\n",
    "\n",
    "AdaBoostRegressor(base_estimator=DecisionTreeRegressor(max_depth=3), n_estimators=50, learning_rate=1.0, loss=\"linear\", \n",
    "                  random_state=42)\n",
    "\n",
    "GradientBoostingRegressor(loss=\"squared_error\", learning_rate=0.1, n_estimators=100, subsample=1.0, criterion=\"friedman_mse\", \n",
    "                          min_samples_split=2, min_samples_leaf=1, min_weight_fraction_leaf=0.0, max_depth=3, \n",
    "                          min_impurity_decrease=0.0, init=None, random_state=42, max_features=None, alpha=0.9, \n",
    "                          max_leaf_nodes=None, warm_start=False, validation_fraction=0.1, n_iter_no_change=None, \n",
    "                          tol=0.0001, ccp_alpha=0.0)"
   ]
  },
  {
   "cell_type": "code",
   "execution_count": null,
   "id": "9a24e595",
   "metadata": {},
   "outputs": [],
   "source": [
    "# Unsupervised models:\n",
    "from sklearn.cluster import KMeans, DBSCAN\n",
    "from sklearn.decomposition import PCA\n",
    "\n",
    "KMeans(n_clusters=8, init=\"k-means++\", n_init=10, max_iter=300, tol=0.0001, verbose=0, random_state=42, copy_x=True, \n",
    "       algorithm=\"lloyd\")\n",
    "\n",
    "DBSCAN(eps=0.5, min_samples=5, metric=\"euclidean\", metric_params=None, algorithm=\"auto\", leaf_size=30, p=None, n_jobs=None)\n",
    "\n",
    "PCA(n_components=None, copy=True, whiten=False, svd_solver=\"auto\", tol=0.0, iterated_power=\"auto\", n_oversamples=10, \n",
    "    power_iteration_normalizer=\"auto\", random_state=42)"
   ]
  },
  {
   "cell_type": "markdown",
   "id": "06d5ecbb",
   "metadata": {},
   "source": [
    "#### Performance"
   ]
  },
  {
   "cell_type": "code",
   "execution_count": null,
   "id": "e9423b15",
   "metadata": {},
   "outputs": [],
   "source": [
    "# Classification metrics (see https://scikit-learn.org/stable/modules/model_evaluation.html#classification-metrics):\n",
    "from sklearn.metrics import (accuracy_score, precision_score, recall_score, f1_score, roc_auc_score, log_loss)\n",
    "\n",
    "def assess_classification_model_performance(labels, predicted_labels, predicted_probs):\n",
    "    \"\"\"\n",
    "    Assess performance for a classification model.\n",
    "\n",
    "    More precisely, compute accuracy, precision, recall, F1 score, ROC AUC and log loss.\n",
    "\n",
    "    Parameters\n",
    "    ----------\n",
    "    labels : pd.Series\n",
    "        actual event information\n",
    "    predicted_labels : pd.Series\n",
    "        predicted event information\n",
    "    predicted_probs : pd.Series\n",
    "        predicted probabilities of event\n",
    "\n",
    "    Returns\n",
    "    -------\n",
    "    dict\n",
    "\n",
    "    \"\"\"\n",
    "    return {\n",
    "        \"accuracy_score\": accuracy_score(labels, predicted_labels),\n",
    "        \"precision_score\": precision_score(labels, predicted_labels),\n",
    "        \"recall_score\": recall_score(labels, predicted_labels),\n",
    "        \"f1_score\": f1_score(labels, predicted_labels),\n",
    "        \"roc_auc_score\": roc_auc_score(labels, predicted_probs),\n",
    "        \"log_loss\": log_loss(labels, predicted_probs)\n",
    "    }"
   ]
  },
  {
   "cell_type": "code",
   "execution_count": null,
   "id": "c2f67b29",
   "metadata": {},
   "outputs": [],
   "source": [
    "# Regression metrics (see https://scikit-learn.org/stable/modules/model_evaluation.html#regression-metrics):\n",
    "from sklearn.metrics import (r2_score, mean_absolute_error, mean_squared_error, median_absolute_error, max_error)\n",
    "\n",
    "def assess_regression_model_performance(values, predicted_valuess):\n",
    "    \"\"\"\n",
    "    Assess performance for a regression model.\n",
    "\n",
    "    More precisely, compute  R2 score, MAE, MSE, median absolute error and max error.\n",
    "\n",
    "    Parameters\n",
    "    ----------\n",
    "    values : pd.Series\n",
    "        actual feature values\n",
    "    predicted_values : pd.Series\n",
    "        predicted feature values\n",
    "\n",
    "    Returns\n",
    "    -------\n",
    "    dict\n",
    "\n",
    "    \"\"\"\n",
    "    return {\n",
    "        \"r2_score\": r2_score(values, predicted_values),\n",
    "        \"MAE\": mean_absolute_error(values, predicted_values),\n",
    "        \"MSE\": mean_squared_error(values, predicted_values),\n",
    "        \"median_absolute_error\": median_absolute_error(values, predicted_values),\n",
    "        \"max_error\": max_error(values, predicted_values)\n",
    "    }"
   ]
  },
  {
   "cell_type": "code",
   "execution_count": null,
   "id": "92c2f877",
   "metadata": {},
   "outputs": [],
   "source": [
    "# Dummy classifier/regressor for model comparison:\n",
    "from sklearn.dummy import DummyClassifier, DummyRegressor\n",
    "\n",
    "clf = DummyClassifier(strategy='most_frequent', random_state=0)\n",
    "clf.fit(X_train, y_train)\n",
    "clf.predict(X_test)\n",
    "clf.score(X_test, y_test) # by default, returns mean accuracy over labels\n",
    "\n",
    "reg = DummyRegressor(strategy=\"mean\")\n",
    "reg.fit(X_train, y_train)\n",
    "reg.predict(X_test)\n",
    "reg.score(X_test, y_test) # by default, returns R2 score"
   ]
  },
  {
   "cell_type": "code",
   "execution_count": null,
   "id": "d08df63d",
   "metadata": {},
   "outputs": [],
   "source": [
    "# Determine best model using GridSearchCV:\n",
    "from sklearn.model_selection import GridSearchCV\n",
    "from sklearn import svm, datasets\n",
    "\n",
    "iris = datasets.load_iris()\n",
    "parameters = {'kernel':('linear', 'rbf'), 'C':[1, 10]}\n",
    "svc = svm.SVC()\n",
    "models = GridSearchCV(svc, parameters)\n",
    "models.fit(iris.data, iris.target)\n",
    "\n",
    "print(f\"Best model: {models.best_estimator_}, with score: {round(models.best_score_, 3)}\")\n",
    "print(\"\\nGridSearch cross-validation results:\")\n",
    "print({key: models.cv_results_.get(key) for key in [\"params\", \"mean_test_score\", \"rank_test_score\"]})"
   ]
  },
  {
   "cell_type": "markdown",
   "id": "b6b9d495",
   "metadata": {},
   "source": [
    "#### Pipelines and features transformation"
   ]
  },
  {
   "cell_type": "code",
   "execution_count": null,
   "id": "9dbab6cc",
   "metadata": {},
   "outputs": [],
   "source": [
    "# Define some custom transformations with sklearn transformers:\n",
    "import pandas as pd\n",
    "import numpy as np\n",
    "import json\n",
    "import enum\n",
    "from sklearn.base import BaseEstimator, TransformerMixin\n",
    "from sklearn.preprocessing import OneHotEncoder\n",
    "from sklearn.ensemble import RandomForestClassifier\n",
    "\n",
    "A_ASCII_CODE = ord(\"A\")\n",
    "\n",
    "class Aggregations(enum.Enum):\n",
    "    Sum = \"sum\"\n",
    "    Mean = \"mean\"\n",
    "    Count = \"count\"\n",
    "\n",
    "\n",
    "class ColumnType(enum.Enum):\n",
    "    Float = \"float\"\n",
    "    Int = \"int\"\n",
    "    Category = \"category\"\n",
    "    Bool = \"bool\"\n",
    "\n",
    "\n",
    "class JsonToDataframeTransformer(BaseEstimator, TransformerMixin):\n",
    "    \"\"\"\n",
    "    Read a json file containing the selected features.\n",
    "\n",
    "    Attributes\n",
    "    ----------\n",
    "\n",
    "    \"\"\"\n",
    "\n",
    "    def fit(self, X, y=None):\n",
    "        return self\n",
    "\n",
    "    def transform(self, input_json_data):\n",
    "        X_ = pd.DataFrame.from_records(json.loads(input_json_data))\n",
    "        return X_\n",
    "\n",
    "    \n",
    "class BucketizerTransformer(BaseEstimator, TransformerMixin):\n",
    "    \"\"\"\n",
    "    Turn a numerical variable into a categorical one by splitting it\n",
    "    according to a list of thresholds.\n",
    "\n",
    "    Attributes\n",
    "    ----------\n",
    "    input_col : str\n",
    "        column containing int/float data\n",
    "    output_col : str\n",
    "        column in which the result is stored\n",
    "    splits : iterable of numeric\n",
    "        list of int/float that are used as thresholds to split\n",
    "        the input variable and transform it into a categorical variable\n",
    "\n",
    "    \"\"\"\n",
    "\n",
    "    def __init__(self, input_col, output_col, splits):\n",
    "        self.input_col = input_col\n",
    "        self.output_col = output_col\n",
    "        self.splits = splits\n",
    "\n",
    "    def fit(self, X, y=None):\n",
    "        return self\n",
    "\n",
    "    def transform(self, X: pd.DataFrame):\n",
    "        X_ = X.copy()\n",
    "        for index in range(len(self.splits)):\n",
    "            if index == 0:\n",
    "                X_.loc[X_[self.input_col] <= self.splits[index],\n",
    "                       self.output_col] = f\"{chr(A_ASCII_CODE + index)}.\" \\\n",
    "                                          f\" <={self.splits[index]}\"\n",
    "            else:\n",
    "                X_.loc[(X_[self.input_col] > self.splits[index - 1]) &\n",
    "                       (X_[self.input_col] <= self.splits[index]),\n",
    "                       self.output_col] = f\"{chr(A_ASCII_CODE + index)}. \" \\\n",
    "                                          f\"({self.splits[index - 1]},\" \\\n",
    "                                          f\"{self.splits[index]}]\"\n",
    "        X_.loc[X_[self.input_col] > self.splits[len(self.splits) - 1],\n",
    "               self.output_col] = f\"{chr(A_ASCII_CODE + len(self.splits))}. \" \\\n",
    "                                  f\">{self.splits[len(self.splits) - 1]}\"\n",
    "        X_[self.output_col] = X_[self.output_col].fillna(\"Unknown\")\n",
    "        return X_\n",
    "\n",
    "\n",
    "class AggregationTransformer(BaseEstimator, TransformerMixin):\n",
    "    \"\"\"\n",
    "    Aggregate a list of columns, with either Sum, Mean or Count, received as input.\n",
    "\n",
    "    Attributes\n",
    "    ----------\n",
    "    input_cols : iterable of str\n",
    "        list of columns to be aggregated\n",
    "    output_col : str\n",
    "        column in which the result is stored\n",
    "    agg_type : Enum Aggregation\n",
    "        type of aggregation to be applied (as Enum custom class\n",
    "        called Aggregations)\n",
    "\n",
    "    \"\"\"\n",
    "\n",
    "    def __init__(self, input_cols, output_col, agg_type):\n",
    "        self.input_cols = input_cols\n",
    "        self.output_col = output_col\n",
    "        self.agg_type = agg_type\n",
    "\n",
    "    def fit(self, X, y=None):\n",
    "        return self\n",
    "\n",
    "    def transform(self, X: pd.DataFrame):\n",
    "        X_ = X.copy()\n",
    "        if self.agg_type == Aggregations.Sum:\n",
    "            X_[self.input_cols] = X_[self.input_cols]. \\\n",
    "                fillna(0).astype(float)\n",
    "            X_[self.output_col] = X_[self.input_cols].sum(axis=1)\n",
    "        elif self.agg_type == Aggregations.Mean:\n",
    "            X_[self.output_col] = X_[self.input_cols].mean(axis=1)\n",
    "        elif self.agg_type == Aggregations.Count:\n",
    "            X_[self.output_col] = np.count_nonzero(X_[self.input_cols],\n",
    "                                                   axis=1)\n",
    "        return X_\n",
    "\n",
    "\n",
    "class MissingValuesTransformer(BaseEstimator, TransformerMixin):\n",
    "    \"\"\"\n",
    "    Replace the missing values for a list of columns having the same type.\n",
    "\n",
    "    Attributes\n",
    "    ----------\n",
    "    input_cols : iterable of str\n",
    "        list of columns containing the missing values\n",
    "    cols_type : Enum ColumnType\n",
    "        type of the columns given as input (taken from an Enum\n",
    "        custom class called ColumnType); depending on the type (Int, Float,\n",
    "        Bool, Category), the input columns are filled with 0, 0.0 or Unknown\n",
    "\n",
    "    \"\"\"\n",
    "\n",
    "    def __init__(self, input_cols, cols_type):\n",
    "        self.input_cols = input_cols\n",
    "        self.cols_type = cols_type\n",
    "\n",
    "    def fit(self, X, y=None):\n",
    "        return self\n",
    "\n",
    "    def transform(self, X: pd.DataFrame):\n",
    "        X_ = X.copy()\n",
    "        for col in self.input_cols:\n",
    "            if self.cols_type == ColumnType.Float:\n",
    "                X_[col] = X_[col].fillna(0)\n",
    "                X_[col] = X_[col].astype(float)\n",
    "            elif self.cols_type == ColumnType.Int:\n",
    "                X_[col] = X_[col].fillna(0)\n",
    "                X_[col] = X_[col].astype(int)\n",
    "            elif self.cols_type == ColumnType.Bool:\n",
    "                X_[col] = X_[col].astype(str).str.lower() == \"true\"\n",
    "            elif self.cols_type == ColumnType.Category:\n",
    "                X_[col] = X_[col].fillna(\"Unknown\")\n",
    "                X_[col] = X_[col].astype(\"category\")\n",
    "        return X_\n",
    "\n",
    "\n",
    "class CountValueTransformer(BaseEstimator, TransformerMixin):\n",
    "    \"\"\"\n",
    "    Count the occurrence of a value in the list of columns given as input.\n",
    "\n",
    "    Attributes\n",
    "    ----------\n",
    "    input_cols : iterable of str\n",
    "        list of columns in which the value is searched\n",
    "    val : numeric or str\n",
    "        the value to be counted\n",
    "    output_col : str\n",
    "        column in which the result is stored\n",
    "\n",
    "    \"\"\"\n",
    "\n",
    "    def __init__(self, input_cols, val, output_col):\n",
    "        self.input_cols = input_cols\n",
    "        self.val = val\n",
    "        self.output_col = output_col\n",
    "\n",
    "    def fit(self, X, y=None):\n",
    "        return self\n",
    "\n",
    "    def transform(self, X: pd.DataFrame):\n",
    "        X_ = X.copy()\n",
    "        X_[self.output_col] = (X_[self.input_cols].isin([self.val])). \\\n",
    "            sum(axis=1)\n",
    "        return X_\n",
    "\n",
    "\n",
    "class ComputeRateTransformer(BaseEstimator, TransformerMixin):\n",
    "    \"\"\"\n",
    "    Divide the two columns received as input (create a rate variable).\n",
    "\n",
    "    Attributes\n",
    "    ----------\n",
    "    input_cols : iterable of str\n",
    "        list of 2 columns to be divided\n",
    "    output_col : str\n",
    "        column in which the result is stored\n",
    "\n",
    "    \"\"\"\n",
    "\n",
    "    def __init__(self, input_cols, output_col):\n",
    "        self.input_cols = input_cols\n",
    "        self.output_col = output_col\n",
    "\n",
    "    def fit(self, X, y=None):\n",
    "        return self\n",
    "\n",
    "    def transform(self, X: pd.DataFrame):\n",
    "        X_ = X.copy()\n",
    "        X_.loc[X[self.input_cols[1]] > 0, self.output_col] = \\\n",
    "            X_.loc[X[self.input_cols[1]] > 0, self.input_cols[0]] / \\\n",
    "            X_.loc[X[self.input_cols[1]] > 0, self.input_cols[1]]\n",
    "        X_[self.output_col].fillna(0, inplace=True)\n",
    "        return X_\n",
    "\n",
    "\n",
    "class OneHotEncodingTransformer(BaseEstimator, TransformerMixin):\n",
    "    \"\"\"\n",
    "    Transform a categorical column into a set of binary columns.\n",
    "\n",
    "    More precisely, create one feature per unique value of the categorical\n",
    "    column, excluding the selected value.\n",
    "\n",
    "    Attributes\n",
    "    ----------\n",
    "    input_col : str\n",
    "        column containing categorical data\n",
    "    drop_value : str\n",
    "        input column value to exclude while creating the binary columns\n",
    "\n",
    "    \"\"\"\n",
    "\n",
    "    def __init__(self, input_col, drop_value):\n",
    "        self.input_col = input_col\n",
    "        self.drop_value = drop_value\n",
    "\n",
    "    def fit(self, X, y=None):\n",
    "        return self\n",
    "\n",
    "    def transform(self, X: pd.DataFrame):\n",
    "        X_ = X.copy()\n",
    "        if self.drop_value in X[self.input_col].unique():\n",
    "            encoder = OneHotEncoder(drop=[self.drop_value])\n",
    "        else:\n",
    "            encoder = OneHotEncoder(drop=None)\n",
    "        encoded = encoder.fit_transform(X_[[self.input_col]]).toarray()\n",
    "        columns = [normalize_string(i) for i in\n",
    "                   encoder.get_feature_names([self.input_col + \"_encoded\"])]\n",
    "        encoded_df = pd.DataFrame(data=encoded, index=X_.index,\n",
    "                                  columns=columns)\n",
    "        return X_.join(encoded_df.astype(int))\n",
    "\n",
    "\n",
    "class CustomRandomForestClassifier(RandomForestClassifier):\n",
    "    \"\"\"\n",
    "    Create a customized RandomForest classifier.\n",
    "\n",
    "    Attributes\n",
    "    ----------\n",
    "\n",
    "    \"\"\"\n",
    "\n",
    "    def fit(self, X, Y=None, **fit_params):\n",
    "        return super().fit(X, y=Y, **fit_params)\n",
    "\n",
    "    def transform(self, X):\n",
    "        return X\n",
    "\n",
    "    def predict(self, X):\n",
    "        return super().predict_proba(X)[:, 1]"
   ]
  },
  {
   "cell_type": "code",
   "execution_count": null,
   "id": "2e12c2cd",
   "metadata": {},
   "outputs": [],
   "source": [
    "# Create a pipeline to fit transform features:\n",
    "from sklearn.pipeline import Pipeline\n",
    "\n",
    "step_name_0 = \"input_preparation\"\n",
    "transformation_0 = [(step_name_0, JsonToDataframeTransformer())]\n",
    "\n",
    "step_name_1 = \"transformation_1\"\n",
    "transformation_1 = [(f\"{step_name_1}_1\", MissingValuesTransformer([\"sales_amount\", \"upsell_amount\"], ColumnType.Float)),\n",
    "                    (f\"{step_name_1}_2\", BucketizerTransformer(\"sales_amount\", \"sales_amount_class\", [10, 500, 1000, 2000, 5000])),\n",
    "                    (f\"{step_name_1}_3\", OneHotEncodingTransformer(\"sales_amount_class\", \"D. (1000,2000]\")),\n",
    "                    (f\"{step_name_1}_4\", BucketizerTransformer(\"upsell_amount\", \"upsell_amount_class\", [-1000, -50, 50, 1000])),\n",
    "                    (f'{step_name_1}_5', OneHotEncodingTransformer(\"upsell_amount_class\", \"D. (50,1000]\"))]\n",
    "\n",
    "step_name_2 = \"transformation_2\"\n",
    "transformation_2 = [(f\"{step_name_2}_1\", MissingValuesTransformer([\"is_vertical_commerce\"], ColumnType.Bool)),\n",
    "                    (f'{step_name_2}_2', BooleanToIntegerTransformer([\"is_vertical_commerce\"]))]\n",
    "\n",
    "step_name_3 = \"model_creation\"\n",
    "FIT_PARAMS = {\"_classifier_\": \"RandomForestClassifier\",\n",
    "              \"n_estimators\": 200,\n",
    "              \"criterion\": \"gini\",\n",
    "              \"max_depth\": 30,\n",
    "              \"min_samples_split\": 100,\n",
    "              \"max_features\": None,\n",
    "              \"bootstrap\": True,\n",
    "              \"random_state\": RANDOM_STATE}\n",
    "\n",
    "fit_params = {k: v for k, v in FIT_PARAMS.items() if k != \"_classifier_\"}\n",
    "transformation_3 = [(step_name_3, CustomRandomForestClassifier(**fit_params))]\n",
    "\n",
    "\n",
    "def fit_transform_pipeline(features_fit, labels_fit, features):\n",
    "    \"\"\"\n",
    "    Fit pipeline on fitting features and transform all features.\n",
    "\n",
    "    Parameters\n",
    "    ----------\n",
    "    features_fit : pd.DataFrame\n",
    "        DataFrame with the features on which to fit the pipeline\n",
    "    labels_fit : pd.Series\n",
    "        DataFrame with the target event on which to fit the pipeline\n",
    "    features : pd.DataFrame\n",
    "        DataFrame to transform\n",
    "\n",
    "    Returns\n",
    "    -------\n",
    "    pipeline object, pd.DataFrame (transformed data)\n",
    "\n",
    "    \"\"\"\n",
    "\n",
    "    steps = transformation_0 + transformation_1 + transformation_2 + transformation_3\n",
    "    pipe = Pipeline(steps=steps)\n",
    "    pipe.fit_transform(features_fit.to_json(orient=\"records\"), labels_fit)\n",
    "    features_trans = pipe.transform(features.to_json(orient=\"records\"))\n",
    "    return pipe, features_trans\n",
    "\n",
    "# Apply pipeline and getting predictions:\n",
    "pipe, features_trans = fit_transform_pipeline(features_train_sampled, labels_train_sampled, features)\n",
    "scores = pd.Series(pipe.predict(features.to_json(orient=\"records\")))"
   ]
  }
 ],
 "metadata": {
  "kernelspec": {
   "display_name": "Python 3",
   "language": "python",
   "name": "python3"
  },
  "language_info": {
   "codemirror_mode": {
    "name": "ipython",
    "version": 3
   },
   "file_extension": ".py",
   "mimetype": "text/x-python",
   "name": "python",
   "nbconvert_exporter": "python",
   "pygments_lexer": "ipython3",
   "version": "3.9.12"
  }
 },
 "nbformat": 4,
 "nbformat_minor": 5
}
